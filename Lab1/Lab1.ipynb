{
 "cells": [
  {
   "cell_type": "markdown",
   "id": "c0af4608-c244-4bc9-b9f5-0976c2751a49",
   "metadata": {},
   "source": [
    "# Грузія\n",
    "\n",
    "## Огляд\n",
    "\n",
    "**Грузія** - країна розташована в Східній Європі на узбережжі Чорного моря. Вона межує з Росією на півночі, з Туреччиною та Вірменією на півдні, та з Азербайджаном на сході.\n",
    "\n",
    "![Гори Грузії](https://pohod-v-gory.com/wp-content/uploads/2022/09/trekking-v-svanetii-gruziya-bez-palatok_36-1024x768.jpg)\n",
    "\n",
    "<details><summary>Площа</summary>\n",
    "<p>\n",
    "\n",
    "`69 700 км²` - Грузія займає територію приблизно 69 700 квадратних кілометрів.\n",
    "\n",
    "</p>\n",
    "</details>\n",
    "\n",
    "<details><summary>Населення</summary>\n",
    "<p>\n",
    "\n",
    "_Приблизно 3.7 мільйона людей_ - за останніми оцінками.\n",
    "\n",
    "</p>\n",
    "</details>\n",
    "\n",
    "## Державний устрій\n",
    "\n",
    "Грузія є **парламентською республікою**. Президент є главою держави, а уряд очолює прем'єр-міністр.\n",
    "\n",
    "## Видатні персоналії\n",
    "\n",
    "1. **Шота Руставелі** - великий грузинський поет.\n",
    "2. **Гія Канчелі** - сучасний композитор, відомий своєю музикою до фільмів та театральних вистав.\n",
    "\n",
    "## Пам'ятки культури та природи\n",
    "\n",
    "- **Святиня Гергеті** _(XIV століття)_, розташована на північному сході Грузії, під вершиною Казбек.\n",
    "- **Виноробні регіони Кахеті** - вважаються колискою виноробства.\n",
    "\n"
   ]
  },
  {
   "cell_type": "markdown",
   "id": "2fbe5b94-1b3b-4c40-afe7-bec5b536fbd8",
   "metadata": {},
   "source": [
    "Прапор\n"
   ]
  },
  {
   "cell_type": "code",
   "execution_count": 1,
   "id": "104081c7-63af-45a7-9f0e-619dfb4411e7",
   "metadata": {},
   "outputs": [
    {
     "data": {
      "text/html": [
       "<svg width=\"300\" height=\"200\">\n",
       "  <rect width=\"300\" height=\"200\" fill=\"white\"/>\n",
       "  <rect x=\"0\" y=\"40\" width=\"300\" height=\"40\" fill=\"red\"/>\n",
       "  <rect x=\"0\" y=\"120\" width=\"300\" height=\"40\" fill=\"red\"/>\n",
       "  <rect x=\"60\" y=\"0\" width=\"40\" height=\"200\" fill=\"red\"/>\n",
       "  <rect x=\"200\" y=\"0\" width=\"40\" height=\"200\" fill=\"red\"/>\n",
       "</svg>\n"
      ],
      "text/plain": [
       "<IPython.core.display.HTML object>"
      ]
     },
     "metadata": {},
     "output_type": "display_data"
    }
   ],
   "source": [
    "%%html\n",
    "<svg width=\"300\" height=\"200\">\n",
    "  <rect width=\"300\" height=\"200\" fill=\"white\"/>\n",
    "  <rect x=\"0\" y=\"40\" width=\"300\" height=\"40\" fill=\"red\"/>\n",
    "  <rect x=\"0\" y=\"120\" width=\"300\" height=\"40\" fill=\"red\"/>\n",
    "  <rect x=\"60\" y=\"0\" width=\"40\" height=\"200\" fill=\"red\"/>\n",
    "  <rect x=\"200\" y=\"0\" width=\"40\" height=\"200\" fill=\"red\"/>\n",
    "</svg>\n"
   ]
  },
  {
   "cell_type": "code",
   "execution_count": 2,
   "id": "c20dffc3-4ab6-45f5-8776-b51c5b8f874f",
   "metadata": {},
   "outputs": [
    {
     "name": "stdout",
     "output_type": "stream",
     "text": [
      "Вхідний список: [5, 3, 78, 3, 23, 7, 34]\n",
      "Відсортований список: [3, 3, 5, 7, 23, 34, 78]\n",
      "\n",
      "Вхідний список: [10, -2, 4, 5, 3, -1]\n",
      "Відсортований список: [-2, -1, 3, 4, 5, 10]\n",
      "\n",
      "Вхідний список: [1, 2, 3, 4, 5]\n",
      "Відсортований список: [1, 2, 3, 4, 5]\n",
      "\n"
     ]
    }
   ],
   "source": [
    "def gnome_sort_desc(arr):\n",
    "    \"\"\"\n",
    "    Сортує список елементів у порядку зменшення за допомогою гном'ячого сортування.\n",
    "    \"\"\"\n",
    "    i = 1\n",
    "    while i < len(arr):\n",
    "        if i == 0 or arr[i - 1] >= arr[i]:\n",
    "            i += 1\n",
    "        else:\n",
    "            arr[i], arr[i - 1] = arr[i - 1], arr[i]\n",
    "            i -= 1\n",
    "    return arr[::-1]  # Повертаємо список у зворотньому порядку для сортування від найбільшого до найменшого\n",
    "\n",
    "# Тестування функції\n",
    "test_cases = [\n",
    "    [5, 3, 78, 3, 23, 7, 34],\n",
    "    [10, -2, 4, 5, 3, -1],\n",
    "    [1, 2, 3, 4, 5]\n",
    "]\n",
    "\n",
    "for test in test_cases:\n",
    "    print(f\"Вхідний список: {test}\\nВідсортований список: {gnome_sort_desc(test)}\\n\")\n"
   ]
  },
  {
   "cell_type": "code",
   "execution_count": null,
   "id": "449b5b96-e788-4e7c-8a06-2dbb7d734177",
   "metadata": {},
   "outputs": [],
   "source": []
  }
 ],
 "metadata": {
  "kernelspec": {
   "display_name": "Python 3 (ipykernel)",
   "language": "python",
   "name": "python3"
  },
  "language_info": {
   "codemirror_mode": {
    "name": "ipython",
    "version": 3
   },
   "file_extension": ".py",
   "mimetype": "text/x-python",
   "name": "python",
   "nbconvert_exporter": "python",
   "pygments_lexer": "ipython3",
   "version": "3.11.8"
  }
 },
 "nbformat": 4,
 "nbformat_minor": 5
}
