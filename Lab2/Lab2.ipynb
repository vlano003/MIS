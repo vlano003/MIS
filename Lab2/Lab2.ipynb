{
 "cells": [
  {
   "cell_type": "markdown",
   "id": "9b9aa131-770a-4a1d-848f-65d5db6e2284",
   "metadata": {},
   "source": [
    "Вправа 1\n",
    "Вводиться число n. Вивести масив розміру n×n, в якому по діагоналі йдуть числа від 1 до n, а інші числа дорівнюють 0."
   ]
  },
  {
   "cell_type": "code",
   "execution_count": 1,
   "id": "774026dd-f397-4f24-8519-f4e4b5d1178a",
   "metadata": {},
   "outputs": [
    {
     "name": "stdin",
     "output_type": "stream",
     "text": [
      "Enter n:  4\n"
     ]
    },
    {
     "name": "stdout",
     "output_type": "stream",
     "text": [
      "[1, 0, 0, 0]\n",
      "[0, 2, 0, 0]\n",
      "[0, 0, 3, 0]\n",
      "[0, 0, 0, 4]\n",
      "CPU times: user 23.9 ms, sys: 12.7 ms, total: 36.6 ms\n",
      "Wall time: 2.74 s\n"
     ]
    }
   ],
   "source": [
    "def task_1a():\n",
    "    n = int(input(\"Enter n: \"))\n",
    "    arr = [[0 for j in range(n)] for i in range(n)]\n",
    "    \n",
    "    for i in range(n):\n",
    "        arr[i][i] = i + 1\n",
    "\n",
    "    for row in arr:\n",
    "        print(row)\n",
    "        \n",
    "        \n",
    "%time task_1a()"
   ]
  },
  {
   "cell_type": "code",
   "execution_count": 2,
   "id": "5ced5b9d-355c-41ec-878d-0a0c1013db9c",
   "metadata": {},
   "outputs": [
    {
     "name": "stdin",
     "output_type": "stream",
     "text": [
      "Enter n:  4\n"
     ]
    },
    {
     "name": "stdout",
     "output_type": "stream",
     "text": [
      "[[1 0 0 0]\n",
      " [0 2 0 0]\n",
      " [0 0 3 0]\n",
      " [0 0 0 4]]\n",
      "CPU times: user 707 ms, sys: 499 ms, total: 1.21 s\n",
      "Wall time: 1.3 s\n"
     ]
    }
   ],
   "source": [
    "import numpy as np\n",
    "\n",
    "def task_1():\n",
    "    n = int(input(\"Enter n: \"))\n",
    "    arr = np.zeros((n, n), dtype=int)\n",
    "    arr[np.diag_indices_from(arr)] = np.arange(1, n+1)\n",
    "    print(arr)\n",
    "\n",
    "\n",
    "%time task_1()"
   ]
  },
  {
   "cell_type": "raw",
   "id": "185b365c-c07d-499b-8eb2-e285fd4d397f",
   "metadata": {},
   "source": [
    "Вправа 3\n",
    "Вводяться 4 числа n, m, r, c. Вивести масив розміру n×m, в якому в кожному рядку з номером r і в кожному стовпчику з номером c стоять 0, а інші елементи дорівнюють 1."
   ]
  },
  {
   "cell_type": "code",
   "execution_count": 6,
   "id": "c3edbd62-19e9-47e4-9f42-6da9b6da6438",
   "metadata": {},
   "outputs": [
    {
     "name": "stdin",
     "output_type": "stream",
     "text": [
      "Enter n:  6\n",
      "Enter m:  7\n",
      "Enter r:  2\n",
      "Enter c:  3\n"
     ]
    },
    {
     "name": "stdout",
     "output_type": "stream",
     "text": [
      "[0, 0, 0, 0, 0, 0, 0]\n",
      "[0, 1, 1, 0, 1, 1, 0]\n",
      "[0, 0, 0, 0, 0, 0, 0]\n",
      "[0, 1, 1, 0, 1, 1, 0]\n",
      "[0, 0, 0, 0, 0, 0, 0]\n",
      "[0, 1, 1, 0, 1, 1, 0]\n",
      "CPU times: user 67.2 ms, sys: 59 ms, total: 126 ms\n",
      "Wall time: 7.83 s\n"
     ]
    }
   ],
   "source": [
    "def task_3a():\n",
    "    n = int(input(\"Enter n: \"))\n",
    "    m = int(input(\"Enter m: \"))\n",
    "    r = int(input(\"Enter r: \"))\n",
    "    c = int(input(\"Enter c: \"))\n",
    "    \n",
    "    arr = [[1 for j in range(m)] for i in range(n)]\n",
    "    \n",
    "    for i in range(n):\n",
    "        if i % r == 0:\n",
    "            arr[i] = [0 for j in range(m)]\n",
    "\n",
    "    for i in range(m):\n",
    "        if i % c == 0:\n",
    "            for j in range(n):\n",
    "                arr[j][i] = 0\n",
    "        \n",
    "    for row in arr:\n",
    "        print(row)\n",
    "        \n",
    "%time task_3a()"
   ]
  },
  {
   "cell_type": "code",
   "execution_count": 7,
   "id": "e7e8e0ad-0d2b-477c-801b-46fc180a2397",
   "metadata": {},
   "outputs": [
    {
     "name": "stdin",
     "output_type": "stream",
     "text": [
      "Enter n:  6\n",
      "Enter m:  7\n",
      "Enter r:  2\n",
      "Enter c:  3\n"
     ]
    },
    {
     "name": "stdout",
     "output_type": "stream",
     "text": [
      "[[0 0 0 0 0 0 0]\n",
      " [0 1 1 0 1 1 0]\n",
      " [0 0 0 0 0 0 0]\n",
      " [0 1 1 0 1 1 0]\n",
      " [0 0 0 0 0 0 0]\n",
      " [0 1 1 0 1 1 0]]\n",
      "CPU times: user 40.8 ms, sys: 29.6 ms, total: 70.4 ms\n",
      "Wall time: 4.55 s\n"
     ]
    }
   ],
   "source": [
    "import numpy as np\n",
    "\n",
    "def task_3b():\n",
    "    n = int(input(\"Enter n: \"))\n",
    "    m = int(input(\"Enter m: \"))\n",
    "    r = int(input(\"Enter r: \"))\n",
    "    c = int(input(\"Enter c: \"))\n",
    "    \n",
    "    arr = np.ones((n, m), dtype=int)\n",
    "    arr[::r, :] = 0\n",
    "    arr[:, ::c] = 0\n",
    "\n",
    "    print(arr)\n",
    "    \n",
    "%time task_3b()"
   ]
  },
  {
   "cell_type": "raw",
   "id": "3c784eed-a4cf-45b1-b311-c2c2680ba7e9",
   "metadata": {},
   "source": [
    "Вправа 4\n",
    "Вводяться числа n і m. Вивести масив розміру n×m, в якому у першому рядку (рядок з нулевим індексом) йдуть числа від 0 до m–1, а всі інші елементи матриці дорівнюють 0."
   ]
  },
  {
   "cell_type": "code",
   "execution_count": 9,
   "id": "22597e9c-2fa0-4e18-9a78-4ab926d2309b",
   "metadata": {},
   "outputs": [
    {
     "name": "stdin",
     "output_type": "stream",
     "text": [
      "Enter n:  3\n",
      "Enter m:  4\n"
     ]
    },
    {
     "name": "stdout",
     "output_type": "stream",
     "text": [
      "[0, 1, 2]\n",
      "[0, 0, 0]\n",
      "[0, 0, 0]\n",
      "[0, 0, 0]\n",
      "CPU times: user 17.6 ms, sys: 10.3 ms, total: 27.9 ms\n",
      "Wall time: 1.75 s\n"
     ]
    }
   ],
   "source": [
    "def task_4a():\n",
    "    n = int(input(\"Enter n: \"))\n",
    "    m = int(input(\"Enter m: \"))\n",
    "    \n",
    "    arr = [[0 for j in range(n)] for i in range(m)]\n",
    "    \n",
    "    for i in range(n):\n",
    "        arr[0][i] = i\n",
    "        \n",
    "    for row in arr:\n",
    "        print(row)\n",
    "        \n",
    "%time task_4a()"
   ]
  },
  {
   "cell_type": "code",
   "execution_count": 12,
   "id": "7817b8e0-58e8-47fe-83cb-caa3c0229714",
   "metadata": {},
   "outputs": [
    {
     "name": "stdin",
     "output_type": "stream",
     "text": [
      "Enter n:  3\n",
      "Enter m:  4\n"
     ]
    },
    {
     "name": "stdout",
     "output_type": "stream",
     "text": [
      "[[0 1 2]\n",
      " [0 0 0]\n",
      " [0 0 0]\n",
      " [0 0 0]]\n",
      "CPU times: user 20.2 ms, sys: 10.9 ms, total: 31.1 ms\n",
      "Wall time: 1.95 s\n"
     ]
    }
   ],
   "source": [
    "import numpy as np\n",
    "\n",
    "def task_4b():\n",
    "    n = int(input(\"Enter n: \"))\n",
    "    m = int(input(\"Enter m: \"))\n",
    "    \n",
    "    arr = np.zeros((m, n), dtype=int)\n",
    "    \n",
    "    arr[0] = np.arange(n)\n",
    "    \n",
    "    print(arr)\n",
    "    \n",
    "%time task_4b()"
   ]
  },
  {
   "cell_type": "raw",
   "id": "f41765c8-0366-448c-94c9-22e3b14e4870",
   "metadata": {},
   "source": [
    "Вправа 5\n",
    "Вводиться число n. Вивести масив розміру n×n, в якому в рядках з парними індексами стоять 1, а в інших – 0."
   ]
  },
  {
   "cell_type": "code",
   "execution_count": 15,
   "id": "b9b7889b-0cfb-44a2-b986-053b223aceb8",
   "metadata": {},
   "outputs": [
    {
     "name": "stdin",
     "output_type": "stream",
     "text": [
      "Enter n:  5\n"
     ]
    },
    {
     "name": "stdout",
     "output_type": "stream",
     "text": [
      "[1, 1, 1, 1, 1]\n",
      "[0, 0, 0, 0, 0]\n",
      "[1, 1, 1, 1, 1]\n",
      "[0, 0, 0, 0, 0]\n",
      "[1, 1, 1, 1, 1]\n",
      "CPU times: user 29.8 ms, sys: 17.6 ms, total: 47.5 ms\n",
      "Wall time: 3.63 s\n"
     ]
    }
   ],
   "source": [
    "\n",
    "def task_5a():\n",
    "    n = int(input(\"Enter n: \"))\n",
    "    \n",
    "    arr = [[0 for j in range(n)] for i in range(n)]\n",
    "    \n",
    "    for i in range(n):\n",
    "        if i % 2 == 0:\n",
    "            for j in range(n):\n",
    "                arr[i][j] = 1\n",
    "                \n",
    "    for row in arr:\n",
    "        print(row)\n",
    "        \n",
    "%time task_5a()"
   ]
  },
  {
   "cell_type": "code",
   "execution_count": 16,
   "id": "ce491972-c8bb-40c1-b736-f8ccb506a900",
   "metadata": {},
   "outputs": [
    {
     "name": "stdin",
     "output_type": "stream",
     "text": [
      "Enter n:  5\n"
     ]
    },
    {
     "name": "stdout",
     "output_type": "stream",
     "text": [
      "[[1 1 1 1 1]\n",
      " [0 0 0 0 0]\n",
      " [1 1 1 1 1]\n",
      " [0 0 0 0 0]\n",
      " [1 1 1 1 1]]\n",
      "CPU times: user 10.2 ms, sys: 9.46 ms, total: 19.7 ms\n",
      "Wall time: 1.06 s\n"
     ]
    }
   ],
   "source": [
    "\n",
    "import numpy as np\n",
    "\n",
    "def task_5b():\n",
    "    n = int(input(\"Enter n: \"))\n",
    "    \n",
    "    arr = np.zeros((n, n), dtype=int)\n",
    "    arr[::2] = np.ones(n, dtype=int)\n",
    "    \n",
    "    print(arr)\n",
    "    \n",
    "%time task_5b()"
   ]
  },
  {
   "cell_type": "code",
   "execution_count": null,
   "id": "c13beab8-a29b-4ec6-840d-b5e39f8649b3",
   "metadata": {},
   "outputs": [],
   "source": [
    "Вправа 10\n",
    "Вводиться числа n i m. Створити масив випадкових значень n×m і обчислити мінімальне, максимальне значення, середнє та середньо квадратичне\n",
    "відхилення, округлене до 3 знаків після коми."
   ]
  },
  {
   "cell_type": "code",
   "execution_count": 19,
   "id": "221ed176-26dd-47de-8a22-9dee46960380",
   "metadata": {},
   "outputs": [
    {
     "name": "stdin",
     "output_type": "stream",
     "text": [
      "Enter n:  4\n",
      "Enter m:  5\n"
     ]
    },
    {
     "name": "stdout",
     "output_type": "stream",
     "text": [
      "мінімум: 0.028\n",
      "максимум: 0.965\n",
      "середнє: 0.554\n",
      "дисперсія: 0.329\n",
      "CPU times: user 23.7 ms, sys: 13.3 ms, total: 37 ms\n",
      "Wall time: 2.68 s\n"
     ]
    }
   ],
   "source": [
    "import random\n",
    "import math\n",
    "\n",
    "def task_10a():\n",
    "    n = int(input(\"Enter n: \"))\n",
    "    m = int(input(\"Enter m: \"))\n",
    "    \n",
    "    arr = [[round(random.uniform(0, 1), 3) for j in range(m)] for i in range(n)]\n",
    "\n",
    "    arr_min = min(min(arr[i]) for i in range(n))\n",
    "    arr_max = max(max(arr[i]) for i in range(n))\n",
    "\n",
    "    sum_val = sum(sum(arr[i]) for i in range(n))\n",
    "    arr_mean = sum_val / (n * m)\n",
    "\n",
    "    sq_diff = sum((arr[i][j] - arr_mean) ** 2 for i in range(n) for j in range(m))\n",
    "    arr_std = math.sqrt(sq_diff / (n * m))\n",
    "\n",
    "    print(f\"мінімум: {arr_min:.3f}\")\n",
    "    print(f\"максимум: {arr_max:.3f}\")\n",
    "    print(f\"середнє: {arr_mean:.3f}\")\n",
    "    print(f\"дисперсія: {arr_std:.3f}\")\n",
    "\n",
    "%time task_10a()"
   ]
  },
  {
   "cell_type": "code",
   "execution_count": 21,
   "id": "eada06ab-caf0-4810-a7c9-3e93eb3587e5",
   "metadata": {},
   "outputs": [
    {
     "name": "stdin",
     "output_type": "stream",
     "text": [
      "Enter n:  4\n",
      "Enter m:  5\n"
     ]
    },
    {
     "name": "stdout",
     "output_type": "stream",
     "text": [
      "мінімум: 0.006\n",
      "максимум: 0.974\n",
      "середнє: 0.554\n",
      "дисперсія: 0.353\n",
      "CPU times: user 17 ms, sys: 14.9 ms, total: 31.9 ms\n",
      "Wall time: 1.67 s\n"
     ]
    }
   ],
   "source": [
    "\n",
    "import random\n",
    "import math\n",
    "import numpy as np\n",
    "\n",
    "def task_10b():\n",
    "    n = int(input(\"Enter n: \"))\n",
    "    m = int(input(\"Enter m: \"))\n",
    "    \n",
    "    arr = np.random.rand(n, m)\n",
    "    arr_min = np.min(arr)\n",
    "    arr_max = np.max(arr)\n",
    "    arr_mean = np.mean(arr)\n",
    "    arr_std = np.std(arr)\n",
    "    \n",
    "    print(f\"мінімум: {arr_min:.3f}\")\n",
    "    print(f\"максимум: {arr_max:.3f}\")\n",
    "    print(f\"середнє: {arr_mean:.3f}\")\n",
    "    print(f\"дисперсія: {arr_std:.3f}\")\n",
    "    \n",
    "%time task_10b()    "
   ]
  },
  {
   "cell_type": "raw",
   "id": "bf1e07cc-545b-40e4-894c-303b285c03fd",
   "metadata": {},
   "source": [
    "Вправа 12\n",
    "Створити масив одиниць розміром n×n та створити в ньому «рамку», що утворюється з 0."
   ]
  },
  {
   "cell_type": "code",
   "execution_count": 22,
   "id": "84082c51-19c5-4799-9cc3-ed501a9809cb",
   "metadata": {},
   "outputs": [
    {
     "name": "stdin",
     "output_type": "stream",
     "text": [
      "Enter n:  4\n"
     ]
    },
    {
     "name": "stdout",
     "output_type": "stream",
     "text": [
      "[0, 0, 0, 0]\n",
      "[0, 1, 1, 0]\n",
      "[0, 1, 1, 0]\n",
      "[0, 0, 0, 0]\n",
      "CPU times: user 13.2 ms, sys: 8.2 ms, total: 21.4 ms\n",
      "Wall time: 1.42 s\n"
     ]
    }
   ],
   "source": [
    "def task_12a():\n",
    "    n = int(input(\"Enter n: \"))\n",
    "    \n",
    "    arr = [[1 for j in range(n)] for i in range(n)]\n",
    "    \n",
    "    arr[0] = [0 for i in range(n)]\n",
    "    arr[n-1] = [0 for i in range(n)]\n",
    "    \n",
    "    for i in range(1, n-1):\n",
    "        for j in range(n):\n",
    "            if j == 0 or j == n - 1:\n",
    "                arr[i][j] = 0\n",
    "                \n",
    "    for row in arr:\n",
    "        print(row)\n",
    "        \n",
    "%time task_12a()"
   ]
  },
  {
   "cell_type": "code",
   "execution_count": 23,
   "id": "e8445e56-5733-455d-9375-e125841c7937",
   "metadata": {},
   "outputs": [
    {
     "name": "stdin",
     "output_type": "stream",
     "text": [
      "Enter n:  4\n"
     ]
    },
    {
     "name": "stdout",
     "output_type": "stream",
     "text": [
      "[[0 0 0 0]\n",
      " [0 1 1 0]\n",
      " [0 1 1 0]\n",
      " [0 0 0 0]]\n",
      "CPU times: user 28.4 ms, sys: 26 ms, total: 54.4 ms\n",
      "Wall time: 4.94 s\n"
     ]
    }
   ],
   "source": [
    "import numpy as np\n",
    "\n",
    "def task_12b():\n",
    "    n = int(input(\"Enter n: \"))\n",
    "    \n",
    "    arr = np.ones((n, n), dtype=int)\n",
    "    \n",
    "    arr[::n-1, :] = 0\n",
    "    arr[:, ::n-1] = 0\n",
    "\n",
    "    print(arr)\n",
    "    \n",
    "%time task_12b()"
   ]
  },
  {
   "cell_type": "code",
   "execution_count": null,
   "id": "c552d9d1-e257-4c91-abfb-f1e626c580c0",
   "metadata": {},
   "outputs": [],
   "source": [
    "Вправа 16\n",
    "Заповнити вектор значеннями від 0 до n. Всі значення, що більші за n/4 та менші за 3n/4 замінити нулями."
   ]
  },
  {
   "cell_type": "code",
   "execution_count": 24,
   "id": "fb357026-1c16-412a-aca7-c063d1b33c03",
   "metadata": {},
   "outputs": [
    {
     "name": "stdin",
     "output_type": "stream",
     "text": [
      "Enter n:  10\n"
     ]
    },
    {
     "name": "stdout",
     "output_type": "stream",
     "text": [
      "[0, 1, 2, 0, 0, 0, 0, 0, 8, 9, 10]\n",
      "CPU times: user 103 ms, sys: 70.7 ms, total: 174 ms\n",
      "Wall time: 17.1 s\n"
     ]
    }
   ],
   "source": [
    "def task_16a():\n",
    "    n = int(input(\"Enter n: \"))\n",
    "    \n",
    "    arr = [i for i in range(n+1)]\n",
    "    \n",
    "    for i in range(n+1):\n",
    "        if n/4 < i and i < 3*n/4:\n",
    "            arr[i] = 0\n",
    "            \n",
    "    print(arr)\n",
    "        \n",
    "%time task_16a()"
   ]
  },
  {
   "cell_type": "code",
   "execution_count": 25,
   "id": "c6ebe3de-cb69-47b9-9355-4fd893ff2619",
   "metadata": {},
   "outputs": [
    {
     "name": "stdin",
     "output_type": "stream",
     "text": [
      "Enter n:  10\n"
     ]
    },
    {
     "name": "stdout",
     "output_type": "stream",
     "text": [
      "[ 0  1  2  0  0  0  0  0  8  9 10]\n",
      "CPU times: user 10.6 ms, sys: 12.6 ms, total: 23.2 ms\n",
      "Wall time: 1.44 s\n"
     ]
    }
   ],
   "source": [
    "import numpy as np\n",
    "\n",
    "def task_16b():\n",
    "    n = int(input(\"Enter n: \"))\n",
    "    \n",
    "    arr = np.arange(n+1)\n",
    "    arr[(arr > n/4) & (arr < 3*n/4)] = 0\n",
    "    \n",
    "    print(arr)\n",
    "    \n",
    "%time task_16b()"
   ]
  },
  {
   "cell_type": "code",
   "execution_count": null,
   "id": "c601342b-36b2-4645-9eaa-6d055947a38f",
   "metadata": {},
   "outputs": [],
   "source": [
    "Вправа 17\n",
    "Заповнити вектор значеннями від 0 до n. Замінити знаки для всіх значень, що менші за n/2 та більші за 3n/4 на протилежні."
   ]
  },
  {
   "cell_type": "code",
   "execution_count": 26,
   "id": "1aa2e4f6-4078-4f3e-a430-f5510b393573",
   "metadata": {},
   "outputs": [
    {
     "name": "stdin",
     "output_type": "stream",
     "text": [
      "Enter n:  10\n"
     ]
    },
    {
     "name": "stdout",
     "output_type": "stream",
     "text": [
      "[0, -1, -2, -3, -4, 5, 6, 7, -8, -9, -10]\n",
      "CPU times: user 156 ms, sys: 115 ms, total: 271 ms\n",
      "Wall time: 26.3 s\n"
     ]
    }
   ],
   "source": [
    "def task_17a():\n",
    "    n = int(input(\"Enter n: \"))\n",
    "    \n",
    "    arr = [i for i in range(n+1)]\n",
    "    \n",
    "    for i in range(n+1):\n",
    "        if i < n/2 or i > 3*n/4:\n",
    "            arr[i] *= -1\n",
    "            \n",
    "    print(arr)\n",
    "        \n",
    "%time task_17a()"
   ]
  },
  {
   "cell_type": "code",
   "execution_count": 27,
   "id": "8cc4975d-c4f1-4d9a-8cbd-245fcfa23a0f",
   "metadata": {},
   "outputs": [
    {
     "name": "stdin",
     "output_type": "stream",
     "text": [
      "Enter n:  10\n"
     ]
    },
    {
     "name": "stdout",
     "output_type": "stream",
     "text": [
      "[  0  -1  -2  -3  -4   5   6   7  -8  -9 -10]\n",
      "CPU times: user 12.3 ms, sys: 9.64 ms, total: 21.9 ms\n",
      "Wall time: 1.65 s\n"
     ]
    }
   ],
   "source": [
    "import numpy as np\n",
    "\n",
    "def task_17b():\n",
    "    n = int(input(\"Enter n: \"))\n",
    "    \n",
    "    arr = np.arange(n+1)\n",
    "    arr[(arr < n/2) | (arr > 3*n/4)] *= -1\n",
    "    \n",
    "    print(arr)\n",
    "    \n",
    "%time task_17b()"
   ]
  },
  {
   "cell_type": "code",
   "execution_count": null,
   "id": "e31a20ea-ff74-4e75-820a-fa1ef09cd46d",
   "metadata": {},
   "outputs": [],
   "source": [
    "Вправа 21\n",
    "Ввести числа n і m. Згенерувати матрицю n×n випадкових цілих елементів з діапазону [0, m]. \n",
    "Замінити всі максимальні елементи цієї матриці на протилежні за знаком."
   ]
  },
  {
   "cell_type": "code",
   "execution_count": 28,
   "id": "7595f756-dbd8-4b3c-823d-6d6bff37114b",
   "metadata": {},
   "outputs": [
    {
     "name": "stdin",
     "output_type": "stream",
     "text": [
      "Enter n:  4\n",
      "Enter m:  10\n"
     ]
    },
    {
     "name": "stdout",
     "output_type": "stream",
     "text": [
      "Початковий вектор\n",
      "[5, 2, 5, 5]\n",
      "[4, 4, 2, 7]\n",
      "[10, 5, 1, 2]\n",
      "[7, 2, 5, 9]\n",
      "Змінений вектор\n",
      "[5, 2, 5, 5]\n",
      "[4, 4, 2, 7]\n",
      "[-10, 5, 1, 2]\n",
      "[7, 2, 5, 9]\n",
      "CPU times: user 42.5 ms, sys: 28.9 ms, total: 71.4 ms\n",
      "Wall time: 6.81 s\n"
     ]
    }
   ],
   "source": [
    "def task_21a():\n",
    "    n = int(input(\"Enter n: \"))\n",
    "    m = int(input(\"Enter m: \"))\n",
    "    \n",
    "    arr = [[random.randint(0, m) for j in range(n)] for i in range(n)]\n",
    "    \n",
    "    print('Початковий вектор')\n",
    "    for row in arr:\n",
    "        print(row)\n",
    "        \n",
    "    arr_max = max(max(arr[i]) for i in range(n))\n",
    "    for i in range(n):\n",
    "        for j in range(n):\n",
    "            if arr[i][j] == arr_max:\n",
    "                arr[i][j] *= -1\n",
    "                \n",
    "    print('Змінений вектор')\n",
    "    for row in arr:\n",
    "        print(row)\n",
    "        \n",
    "%time task_21a()"
   ]
  },
  {
   "cell_type": "code",
   "execution_count": 29,
   "id": "2bc36999-cdca-4ce5-bf80-98f795fbff6d",
   "metadata": {},
   "outputs": [
    {
     "name": "stdin",
     "output_type": "stream",
     "text": [
      "Enter n:  4\n",
      "Enter m:  10\n"
     ]
    },
    {
     "name": "stdout",
     "output_type": "stream",
     "text": [
      "Початковий вектор\n",
      "[[ 4  3  1  4]\n",
      " [ 4  5  7  2]\n",
      " [ 8  0  6  9]\n",
      " [ 2  8 10  6]]\n",
      "Змінений вектор\n",
      "[[  4   3   1   4]\n",
      " [  4   5   7   2]\n",
      " [  8   0   6   9]\n",
      " [  2   8 -10   6]]\n",
      "CPU times: user 46.6 ms, sys: 32.6 ms, total: 79.3 ms\n",
      "Wall time: 7.4 s\n"
     ]
    }
   ],
   "source": [
    "import numpy as np\n",
    "\n",
    "def task_21b():\n",
    "    n = int(input(\"Enter n: \"))\n",
    "    m = int(input(\"Enter m: \"))\n",
    "    \n",
    "    arr = np.random.randint(0, m+1, size=(n, n))\n",
    "    \n",
    "    print('Початковий вектор')\n",
    "    print(arr)\n",
    "        \n",
    "    arr_max = np.max(arr)\n",
    "    \n",
    "    arr[arr == arr_max] *= -1\n",
    "                \n",
    "    print('Змінений вектор')\n",
    "    print(arr)\n",
    "        \n",
    "%time task_21b()"
   ]
  },
  {
   "cell_type": "code",
   "execution_count": null,
   "id": "6b04a5da-28c0-45b4-835e-273935eb057c",
   "metadata": {},
   "outputs": [],
   "source": [
    "Завдання 2\n",
    "Розв'язати систему алгебраїчних рівнянь за допомогою формул Крамера і виконати перевірку за допомогою:\n",
    "\n",
    "матричного множення;\n",
    "оберненої матриці;\n",
    "функції numpy.linalg.solve().\n",
    "Порівняти всі рішення за допомогою функції numpy.allclose().\n",
    "\n",
    "Матричне представлення системи лінійних алгебраїчних рівнянь та розв'язок:\n"
   ]
  },
  {
   "cell_type": "code",
   "execution_count": 30,
   "id": "186efc62-06b9-422e-8682-aa515412fd56",
   "metadata": {},
   "outputs": [
    {
     "name": "stdout",
     "output_type": "stream",
     "text": [
      "Матриця коефіцієнтів\n",
      "[2, -1, 3, 2]\n",
      "[3, 3, 3, 2]\n",
      "[3, -1, -1, 2]\n",
      "[3, -1, 3, -1]\n",
      "\n",
      "Вектор вільних членів\n",
      "[4, 6, 6, 6]\n",
      "\n",
      "Вектор розв'язку\n",
      "[2, 0, 0, 0]\n"
     ]
    }
   ],
   "source": [
    "A = [[2, -1, 3, 2],\n",
    "    [3,  3,  3, 2],\n",
    "    [3, -1, -1, 2],\n",
    "    [3, -1, 3, -1]]\n",
    "\n",
    "B = [4, 6, 6, 6]\n",
    "\n",
    "S = [2, 0, 0, 0]\n",
    "\n",
    "print('Матриця коефіцієнтів')\n",
    "for row in A:\n",
    "    print(row)\n",
    "    \n",
    "print('\\nВектор вільних членів')\n",
    "print(B)\n",
    "\n",
    "\n",
    "print(\"\\nВектор розв'язку\")\n",
    "print(S)"
   ]
  },
  {
   "cell_type": "code",
   "execution_count": null,
   "id": "893c37d3-2880-4cc0-8514-9e62da852c8c",
   "metadata": {},
   "outputs": [],
   "source": [
    "Перевірка\n",
    "\n",
    "Спосіб 1: матричне множення"
   ]
  },
  {
   "cell_type": "code",
   "execution_count": 31,
   "id": "d1cde8eb-f911-4e5e-94bc-6768fb7db99e",
   "metadata": {},
   "outputs": [
    {
     "name": "stdout",
     "output_type": "stream",
     "text": [
      "А * S:\n",
      "[4, 6, 6, 6]\n",
      "\n",
      "A * S == B:\n",
      "True\n"
     ]
    }
   ],
   "source": [
    "A = [[2, -1, 3, 2],\n",
    "    [3,  3,  3, 2],\n",
    "    [3, -1, -1, 2],\n",
    "    [3, -1, 3, -1]]\n",
    "\n",
    "B = [4, 6, 6, 6]\n",
    "\n",
    "S = [2, 0, 0, 0]\n",
    "\n",
    "fact_sol = [0] * 4\n",
    "\n",
    "for i in range(4):\n",
    "    sum = 0\n",
    "    for j in range(4):\n",
    "        sum += A[i][j] * S[j]\n",
    "    fact_sol[i] = sum\n",
    "    \n",
    "print(\"А * S:\")\n",
    "print(fact_sol)\n",
    "\n",
    "print(\"\\nA * S == B:\")\n",
    "print(fact_sol == B)"
   ]
  },
  {
   "cell_type": "raw",
   "id": "7d0118b8-6087-4bc9-bec0-8831d59f819e",
   "metadata": {},
   "source": [
    "Спосіб 2: обернена матриця\n"
   ]
  },
  {
   "cell_type": "code",
   "execution_count": 32,
   "id": "5ddafc46-acad-4dba-a88a-cdefdf3b3f8e",
   "metadata": {},
   "outputs": [
    {
     "name": "stdout",
     "output_type": "stream",
     "text": [
      "inverse A:\n",
      "[[-0.18181818  0.06818182  0.20454545  0.18181818]\n",
      " [-0.20454545  0.23295455 -0.05113636 -0.04545455]\n",
      " [ 0.20454545  0.01704545 -0.19886364  0.04545455]\n",
      " [ 0.27272727  0.02272727  0.06818182 -0.27272727]]\n",
      "\n",
      "A_inv * B:\n",
      "[2.00000000e+00 0.00000000e+00 5.55111512e-17 2.22044605e-16]\n",
      "\n",
      "np.allclose(S, fact_sol):\n",
      "True\n"
     ]
    }
   ],
   "source": [
    "import numpy as np\n",
    "\n",
    "A = np.array([[2, -1, 3, 2],\n",
    "    [3,  3,  3, 2],\n",
    "    [3, -1, -1, 2],\n",
    "    [3, -1, 3, -1]])\n",
    "\n",
    "B = np.array([4, 6, 6, 6])\n",
    "S = np.array([2, 0, 0, 0])\n",
    "\n",
    "A_inv = np.linalg.inv(A)\n",
    "\n",
    "\n",
    "print(\"inverse A:\")\n",
    "print(A_inv)\n",
    "\n",
    "fact_sol = A_inv.dot(B)\n",
    "\n",
    "print(\"\\nA_inv * B:\")\n",
    "print(fact_sol)\n",
    "\n",
    "print(\"\\nnp.allclose(S, fact_sol):\")\n",
    "print(np.allclose(S, fact_sol))"
   ]
  },
  {
   "cell_type": "raw",
   "id": "ca9eb0b4-8528-4d55-8f24-1513bcc33782",
   "metadata": {},
   "source": [
    "Розв'язання з використанням numpy.linalg.solve()\n"
   ]
  },
  {
   "cell_type": "code",
   "execution_count": 33,
   "id": "88bedd5a-2b3a-4016-a511-862f999c28b6",
   "metadata": {},
   "outputs": [
    {
     "name": "stdout",
     "output_type": "stream",
     "text": [
      "np.linarg.solve(A,B):\n",
      "[ 2.00000000e+00 -4.54182146e-17  4.54182146e-17  6.05576195e-17]\n",
      "\n",
      "np.allclose(S, fact_sol):\n",
      "True\n"
     ]
    }
   ],
   "source": [
    "import numpy as np\n",
    "\n",
    "A = np.array([[2, -1, 3, 2],\n",
    "    [3,  3,  3, 2],\n",
    "    [3, -1, -1, 2],\n",
    "    [3, -1, 3, -1]])\n",
    "\n",
    "B = np.array([4, 6, 6, 6])\n",
    "S = np.array([2, 0, 0, 0])\n",
    "\n",
    "fact_sol = np.linalg.solve(A, B)\n",
    "\n",
    "\n",
    "print(\"np.linarg.solve(A,B):\")\n",
    "print(fact_sol)\n",
    "\n",
    "print(\"\\nnp.allclose(S, fact_sol):\")\n",
    "print(np.allclose(S, fact_sol))"
   ]
  },
  {
   "cell_type": "raw",
   "id": "257d1382-37cf-418d-be0f-424018fed04e",
   "metadata": {},
   "source": [
    "Завдання 3\n",
    "\n",
    "Обчислити значення матричного виразу\n",
    "\n",
    "з використанням універсальних функцій бібліотеки NumPy.\n",
    "за допомогою ітеративних конструкцій (з використанням циклів, спискових включень тощо).\n",
    "для обох випадків підрахувати час виконання скрипту та зробити висновок.\n",
    "Порівняти всі рішення за допомогою функції numpy.allclose()."
   ]
  },
  {
   "cell_type": "code",
   "execution_count": 34,
   "id": "e8647aa9-c9f1-426d-8dd9-7ac7bc742dad",
   "metadata": {},
   "outputs": [
    {
     "name": "stdout",
     "output_type": "stream",
     "text": [
      "A:\n",
      "[[ 3  2 -5]\n",
      " [ 4  2  0]\n",
      " [ 1  1  2]]\n",
      "\n",
      "B:\n",
      "[[-1  2  4]\n",
      " [ 0  3  2]\n",
      " [-1 -3  4]]\n",
      "\n",
      "(A - B)A + 3B:\n",
      "[[  0   5 -26]\n",
      " [  6  13 -18]\n",
      " [ 17   1  -2]]\n",
      "CPU times: user 456 µs, sys: 782 µs, total: 1.24 ms\n",
      "Wall time: 1.6 ms\n"
     ]
    }
   ],
   "source": [
    "import numpy as np\n",
    "\n",
    "def task_3():\n",
    "    A = np.array([[3, 2, -5], [4, 2, 0], [1, 1, 2]])\n",
    "    B = np.array([[-1, 2, 4], [0, 3, 2], [-1, -3, 4]])\n",
    "\n",
    "    # (A - B)A + 3B\n",
    "    C = np.add(np.subtract(A, B).dot(A), np.multiply(B, 3))\n",
    "\n",
    "    print(\"A:\")\n",
    "    print(A)\n",
    "    print(\"\\nB:\")\n",
    "    print(B)\n",
    "    print(\"\\n(A - B)A + 3B:\")\n",
    "    print(C)\n",
    "\n",
    "%time task_3()"
   ]
  },
  {
   "cell_type": "code",
   "execution_count": null,
   "id": "13990fa1-3015-467a-b29a-ac37f02d96b6",
   "metadata": {},
   "outputs": [],
   "source": []
  }
 ],
 "metadata": {
  "kernelspec": {
   "display_name": "Python 3 (ipykernel)",
   "language": "python",
   "name": "python3"
  },
  "language_info": {
   "codemirror_mode": {
    "name": "ipython",
    "version": 3
   },
   "file_extension": ".py",
   "mimetype": "text/x-python",
   "name": "python",
   "nbconvert_exporter": "python",
   "pygments_lexer": "ipython3",
   "version": "3.11.7"
  }
 },
 "nbformat": 4,
 "nbformat_minor": 5
}
